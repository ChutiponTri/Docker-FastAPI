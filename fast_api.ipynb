{
 "cells": [
  {
   "cell_type": "markdown",
   "metadata": {},
   "source": [
    "## GET Template"
   ]
  },
  {
   "cell_type": "code",
   "execution_count": null,
   "metadata": {},
   "outputs": [],
   "source": [
    "import requests\n",
    "\n",
    "url = \"http://localhost:8305/get/user\"\n",
    "\n",
    "params = {\n",
    "    \"hn\": \"tata01\"\n",
    "}\n",
    "\n",
    "response = requests.get(url, params=params)\n",
    "if response.status_code == 200:\n",
    "    print(response.json())\n",
    "else:\n",
    "    print(f\"Error with Status {response.status_code} : {response.text}\")"
   ]
  },
  {
   "cell_type": "code",
   "execution_count": null,
   "metadata": {},
   "outputs": [],
   "source": [
    "import requests\n",
    "\n",
    "url = \"http://localhost:8305/get/all/users\"\n",
    "\n",
    "response = requests.get(url)\n",
    "if response.status_code == 200:\n",
    "    print(response.json())\n",
    "else:\n",
    "    print(f\"Error with Status {response.status_code} : {response.text}\")"
   ]
  },
  {
   "cell_type": "code",
   "execution_count": null,
   "metadata": {},
   "outputs": [],
   "source": [
    "import requests\n",
    "import pandas as pd\n",
    "\n",
    "url = \"http://localhost:8305/get/database\"\n",
    "params = {\n",
    "    \"hn\": \"tata01\"\n",
    "}\n",
    "\n",
    "response = requests.get(url, params=params)\n",
    "if response.status_code == 200:\n",
    "    print(response.json())\n",
    "\n",
    "    # Optional: Create DataFrame from JSON\n",
    "    data = response.json().get(\"data\", None)\n",
    "    if data is not None:\n",
    "        try:\n",
    "            df = pd.DataFrame(data)\n",
    "            print(df)\n",
    "        except Exception as e:\n",
    "            print(\"Error\", e)\n",
    "else:\n",
    "    print(f\"Error with Status {response.status_code} : {response.text}\")"
   ]
  },
  {
   "cell_type": "code",
   "execution_count": null,
   "metadata": {},
   "outputs": [],
   "source": [
    "import requests\n",
    "\n",
    "url = \"http://localhost:8305/get/database\"\n",
    "\n",
    "params = {\n",
    "    \"hn\": \"tata01\",\n",
    "    \"x\": 1.354,\n",
    "    \"y\": 2.55,\n",
    "    \"z\": 2.14,\n",
    "    \"visibility\": 9.55\n",
    "}\n",
    "\n",
    "response = requests.get(url, params=params)\n",
    "if response.status_code == 200:\n",
    "    print(response.json())\n",
    "else:\n",
    "    print(f\"Error with Status {response.status_code} : {response.text}\")"
   ]
  },
  {
   "cell_type": "markdown",
   "metadata": {},
   "source": [
    "## POST Template"
   ]
  },
  {
   "cell_type": "code",
   "execution_count": null,
   "metadata": {},
   "outputs": [],
   "source": [
    "import requests\n",
    "\n",
    "url = \"http://localhost:8305/post/users\"\n",
    "data = {\n",
    "    \"hn\": \"yoyow03\",\n",
    "    \"age\": 19,\n",
    "    \"height\": 170,\n",
    "    \"weight\": 49,\n",
    "    \"bmi\": 49/1.7**2\n",
    "}\n",
    "\n",
    "response = requests.post(url, json=data)\n",
    "if response.status_code == 200:\n",
    "    print(response.json())\n",
    "else:\n",
    "    print(f\"Error with Status {response.status_code} : {response.text}\")"
   ]
  },
  {
   "cell_type": "code",
   "execution_count": null,
   "metadata": {},
   "outputs": [],
   "source": [
    "import requests\n",
    "\n",
    "url = \"http://localhost:8305/post/database\"\n",
    "data = {\n",
    "    \"hn\": \"tata01\",\n",
    "    \"x\": 2.88,\n",
    "    \"y\": 2.95,\n",
    "    \"z\": 1.45,\n",
    "    \"visibility\": 9.99\n",
    "}\n",
    "\n",
    "response = requests.post(url, json=data)\n",
    "if response.status_code == 200:\n",
    "    print(response.json())\n",
    "else:\n",
    "    print(f\"Error with Status {response.status_code} : {response.text}\")"
   ]
  }
 ],
 "metadata": {
  "kernelspec": {
   "display_name": "Python 3",
   "language": "python",
   "name": "python3"
  },
  "language_info": {
   "codemirror_mode": {
    "name": "ipython",
    "version": 3
   },
   "file_extension": ".py",
   "mimetype": "text/x-python",
   "name": "python",
   "nbconvert_exporter": "python",
   "pygments_lexer": "ipython3",
   "version": "3.10.10"
  }
 },
 "nbformat": 4,
 "nbformat_minor": 2
}
