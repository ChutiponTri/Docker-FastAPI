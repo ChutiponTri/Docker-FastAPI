{
 "cells": [
  {
   "cell_type": "markdown",
   "metadata": {},
   "source": [
    "## GET Template"
   ]
  },
  {
   "cell_type": "code",
   "execution_count": 26,
   "metadata": {},
   "outputs": [
    {
     "name": "stdout",
     "output_type": "stream",
     "text": [
      "{'status': 'ok', 'data': [{'_id': '67e2eb98b108977f58c8b990', 'hn': 'tata01', 'age': 19.0, 'height': 170.0, 'weight': 49.0, 'bmi': 16.955017301038065}]}\n"
     ]
    }
   ],
   "source": [
    "import requests\n",
    "\n",
    "url = \"http://localhost:8305/get/user\"\n",
    "\n",
    "params = {\n",
    "    \"hn\": \"tata01\"\n",
    "}\n",
    "\n",
    "response = requests.get(url, params=params)\n",
    "if response.status_code == 200:\n",
    "    print(response.json())\n",
    "else:\n",
    "    print(f\"Error with Status {response.status_code} : {response.text}\")"
   ]
  },
  {
   "cell_type": "code",
   "execution_count": null,
   "metadata": {},
   "outputs": [
    {
     "name": "stdout",
     "output_type": "stream",
     "text": [
      "{'status': 'ok', 'data': [{'_id': '67e2eb98b108977f58c8b990', 'hn': 'tata01', 'age': 19.0, 'height': 170.0, 'weight': 49.0, 'bmi': 16.955017301038065}, {'_id': '67e2ebb5b108977f58c8b991', 'hn': 'ton02', 'age': 19.0, 'height': 170.0, 'weight': 49.0, 'bmi': 16.955017301038065}]}\n"
     ]
    }
   ],
   "source": [
    "import requests\n",
    "\n",
    "url = \"http://localhost:8305/get/all/users\"\n",
    "\n",
    "response = requests.get(url)\n",
    "if response.status_code == 200:\n",
    "    print(response.json())\n",
    "else:\n",
    "    print(f\"Error with Status {response.status_code} : {response.text}\")"
   ]
  },
  {
   "cell_type": "code",
   "execution_count": 21,
   "metadata": {},
   "outputs": [
    {
     "name": "stdout",
     "output_type": "stream",
     "text": [
      "{'status': 'ok', 'data': [{'_id': '67e2eb2141e095f6f0099921', 'hn': 'tata01', 'x': 1.354, 'y': 2.55, 'z': 2.14, 'visibility': 9.55}]}\n"
     ]
    }
   ],
   "source": [
    "import requests\n",
    "\n",
    "url = \"http://localhost:8305/get/database\"\n",
    "params = {\n",
    "    \"hn\": \"tata01\"\n",
    "}\n",
    "\n",
    "response = requests.get(url, params=params)\n",
    "if response.status_code == 200:\n",
    "    print(response.json())\n",
    "else:\n",
    "    print(f\"Error with Status {response.status_code} : {response.text}\")"
   ]
  },
  {
   "cell_type": "code",
   "execution_count": 27,
   "metadata": {},
   "outputs": [
    {
     "name": "stdout",
     "output_type": "stream",
     "text": [
      "{'status': 'ok', 'data': [{'_id': '67e2eb2141e095f6f0099921', 'hn': 'tata01', 'x': 1.354, 'y': 2.55, 'z': 2.14, 'visibility': 9.55}]}\n"
     ]
    }
   ],
   "source": [
    "import requests\n",
    "\n",
    "url = \"http://localhost:8305/get/database\"\n",
    "\n",
    "params = {\n",
    "    \"hn\": \"tata01\",\n",
    "    \"x\": 1.354,\n",
    "    \"y\": 2.55,\n",
    "    \"z\": 2.14,\n",
    "    \"visibility\": 9.55\n",
    "}\n",
    "\n",
    "response = requests.get(url, params=params)\n",
    "if response.status_code == 200:\n",
    "    print(response.json())\n",
    "else:\n",
    "    print(f\"Error with Status {response.status_code} : {response.text}\")"
   ]
  },
  {
   "cell_type": "markdown",
   "metadata": {},
   "source": [
    "## POST Template"
   ]
  },
  {
   "cell_type": "code",
   "execution_count": 28,
   "metadata": {},
   "outputs": [
    {
     "name": "stdout",
     "output_type": "stream",
     "text": [
      "{'status': 'ok', 'message': 'User Already Exist'}\n"
     ]
    }
   ],
   "source": [
    "import requests\n",
    "\n",
    "url = \"http://localhost:8305/post/users\"\n",
    "data = {\n",
    "    \"hn\": \"ton02\",\n",
    "    \"age\": 19,\n",
    "    \"height\": 170,\n",
    "    \"weight\": 49,\n",
    "    \"bmi\": 49/1.7**2\n",
    "}\n",
    "\n",
    "response = requests.post(url, json=data)\n",
    "if response.status_code == 200:\n",
    "    print(response.json())\n",
    "else:\n",
    "    print(f\"Error with Status {response.status_code} : {response.text}\")"
   ]
  },
  {
   "cell_type": "code",
   "execution_count": null,
   "metadata": {},
   "outputs": [
    {
     "name": "stdout",
     "output_type": "stream",
     "text": [
      "{'status': 'ok', 'message': 'Inserted Successfully'}\n"
     ]
    }
   ],
   "source": [
    "import requests\n",
    "\n",
    "url = \"http://localhost:8305/post/database\"\n",
    "data = {\n",
    "    \"hn\": \"tata01\",\n",
    "    \"x\": 1.354,\n",
    "    \"y\": 2.55,\n",
    "    \"z\": 2.14,\n",
    "    \"visibility\": 9.55\n",
    "}\n",
    "\n",
    "response = requests.post(url, json=data)\n",
    "if response.status_code == 200:\n",
    "    print(response.json())\n",
    "else:\n",
    "    print(f\"Error with Status {response.status_code} : {response.text}\")"
   ]
  }
 ],
 "metadata": {
  "kernelspec": {
   "display_name": "Python 3",
   "language": "python",
   "name": "python3"
  },
  "language_info": {
   "codemirror_mode": {
    "name": "ipython",
    "version": 3
   },
   "file_extension": ".py",
   "mimetype": "text/x-python",
   "name": "python",
   "nbconvert_exporter": "python",
   "pygments_lexer": "ipython3",
   "version": "3.10.10"
  }
 },
 "nbformat": 4,
 "nbformat_minor": 2
}
